{
 "cells": [
  {
   "cell_type": "code",
   "execution_count": 7,
   "metadata": {},
   "outputs": [],
   "source": [
    "import glob\n",
    "import markdown\n",
    "import json\n",
    "import pprint\n",
    "import uuid"
   ]
  },
  {
   "cell_type": "code",
   "execution_count": 51,
   "metadata": {},
   "outputs": [
    {
     "data": {
      "text/plain": [
       "[{'title': 'Lorem ipsum dolor',\n",
       "  'author': 'Ramón Opazo',\n",
       "  'date': '16/08/2020',\n",
       "  'tags': 'test, blog, formatting',\n",
       "  'description': 'Lorem ipsum dolor sit amet, consectetur adipiscing elit. Phasellus felis nisi, ultrices sed purus feugiat, placerat viverra ligula. Interdum et malesuada fames ac ante ipsum primis in faucibus. Nunc luctus dui nisi, eget vehicula erat consequat in. Nunc in eleifend diam. Aliquam lacus mi, vestibulum sit amet ultricies in, mollis vel urna. Vestibulum odio tellus, dapibus ut diam vel, imperdiet fermentum tellus. Nunc lacinia bibendum tellus, non hendrerit ex euismod eu. Sed mattis lacus a lorem sollicitudin ornare. Phasellus urna tellus, condimentum non magna sed, tincidunt luctus orci. Aliquam at egestas diam. Donec auctor ultrices dignissim.',\n",
       "  'id': UUID('13378f67-05b9-39c7-a89f-3f11aac3cb6b')},\n",
       " {'title': 'Hipothalamus',\n",
       "  'author': 'Ramón Opazo',\n",
       "  'date': '22/07/2020',\n",
       "  'tags': 'MCB80_3x, neuroanatomy, model, subcorticalAreas',\n",
       "  'description': 'The hipothalamus is found in all vertebrates brains, sitting below the thalamus and above the brainstem. The main function of the hipothalamus is to maintain homeostasis of the body. It achieves this goal by regulating different autonomous and behavioral systems.',\n",
       "  'id': UUID('13378f67-05b9-39c7-a89f-3f11aac3cb6b')},\n",
       " {'title': 'Hippocampus',\n",
       "  'author': 'Ramón Opazo',\n",
       "  'date': '21/07/2020',\n",
       "  'tags': 'MCB80_3x, model, subcorticalAreas',\n",
       "  'description': 'There are two types of long term memories. Declarative memory, also named explicit memory, is the memory of knowing what, that is, facts and events, consciously recalled (or declared). It is explicitly stored and retrieved.',\n",
       "  'id': UUID('13378f67-05b9-39c7-a89f-3f11aac3cb6b')}]"
      ]
     },
     "execution_count": 51,
     "metadata": {},
     "output_type": "execute_result"
    }
   ],
   "source": [
    "mds = sorted(glob.glob(\"./*.md\"), reverse=True)\n",
    "\n",
    "data = []\n",
    "\n",
    "for md in mds:\n",
    "    with open(md) as f:\n",
    "        md = markdown.Markdown(extensions = ['full_yaml_metadata'])\n",
    "        md.convert(f.read())\n",
    "        if md.Meta:\n",
    "            md.Meta['id'] = str(uuid.uuid3(uuid.NAMESPACE_DNS, i))\n",
    "            data.append(md.Meta)\n",
    "\n",
    "data"
   ]
  },
  {
   "cell_type": "code",
   "execution_count": 50,
   "metadata": {},
   "outputs": [
    {
     "name": "stdout",
     "output_type": "stream",
     "text": [
      "68db8987-262e-39db-bcbf-780c2b95a874\t./202008181604 Lorem ipsum dolor.md\n",
      "cdf2e7b6-7c0a-3c47-98e8-450c3ca0e72e\t./202007221805 Hipothalamus.md\n",
      "082ab635-75ce-31b4-9a1d-bc288ed60779\t./202007221634 Hippocampus.md\n",
      "9bc6595a-bbb3-3775-8586-61815236aad3\t./202007221304 Limbic system.md\n",
      "396e2110-69d9-3fb8-87be-498053720da0\t./202007221249 Thalamus.md\n",
      "df87bd0a-f98b-3ba4-b65b-4047884c9787\t./202007211834 Basal ganglia.md\n",
      "322cfae4-f7fb-3283-999d-def64cfc0547\t./202007211713 Cerebellum.md\n",
      "02cfcfbc-5cfd-3689-88de-6076c8672368\t./202007211640 Midbrain.md\n",
      "2be1037d-ea4e-34b6-ab3b-0b58b5952431\t./202007211600 Hindbrain.md\n",
      "be64a8d6-a5b9-3796-aced-ad7f9673d056\t./202007181915 Corticospinal neuron integration.md\n",
      "5056e33f-a292-3012-be33-65c7a3f4a736\t./202007181823 Motor cortex.md\n",
      "0fd6ddb0-6b4f-39a8-8977-934462865239\t./202007181744 Descending motor pathways.md\n",
      "afac4db2-d5a3-34b4-984c-50d7f757edaa\t./202007171832 Myotatic stretch reflex.md\n",
      "ccf89343-e082-3367-a461-9e6f7e8777ac\t./202007171749 Lower motor neurons.md\n",
      "f84cd229-70e9-3aaa-9b23-e813082cc9d6\t./202007171324 Skeletal muscles.md\n",
      "16ba6dc0-b198-37c7-8f8a-45d19752c2b0\t./202007152037 Somatosensory system.md\n",
      "5123122a-25ba-3e73-8541-76660b0e0b58\t./202007151648 Olfactory system.md\n",
      "f682a9b9-0502-3740-99fa-b36031fe88a8\t./202007141644 Gustatory system.md\n",
      "57f8da9d-e1ff-3f8e-8dc6-f8186d9578a5\t./202007091506 Localization of sound.md\n",
      "cd61147a-9ee4-360b-934a-57c7bd486761\t./202007091430 Brodmann areas of the cortex.md\n",
      "ad8a184e-7a67-3149-98bf-3c09e2fdb2c9\t./202007091316 Auditory cortex.md\n",
      "cde9e621-7389-3d95-bf95-4a551da4055b\t./202007091242 Subcortical auditory pathways.md\n",
      "5cfd24ea-77a0-3a21-b8be-d539fa890c05\t./202007081320 Auditory frequency detection.md\n",
      "1ba500b2-acee-316f-aa96-08e7ba224615\t./202007081110 Inner ear.md\n",
      "f4e5a153-e14c-3c78-9624-c9021d12d6cc\t./202007081036 Endocochlear potential.md\n",
      "40d8e68f-8f56-3364-893c-ec1dc5d3ae59\t./202007071732 Outer and middle ear.md\n",
      "a50a89db-9b82-3253-af81-2eaa4aae20d9\t./202007071705 Auditory system overview.md\n",
      "e175bcc7-9eb7-396e-8832-850acbd661be\t./202007051632 Binding problem.md\n",
      "576b8c90-96eb-3b0d-969c-58f288391349\t./202007051427 Visual pathways.md\n",
      "f84a1500-cea7-39e3-aa30-466537d13247\t./202007021655 Primary visual cortex.md\n",
      "fda9c40e-9c29-363a-a98c-9773e90330af\t./202007021626 Lateral geniculate nuclei.md\n",
      "92147815-1dfd-34e7-93cf-a564c03b6cdf\t./202007021533 Retinofugal projection.md\n",
      "f10b3498-9210-39c2-ae1a-2fc21b5a5708\t./202007021455 Retinal circuits.md\n",
      "69f0d2b4-30ee-3e85-95c7-f61a17730292\t./202007021438 Retinal processing.md\n",
      "8bdb74e2-0563-37ec-95fd-4fe2f8d422f6\t./202006301958 Kirchhoff's circuit laws.md\n",
      "525d3c96-f9ff-344a-bfea-2e95d6f9a4da\t./202006292121 Color vision.md\n",
      "40430de7-6e58-3fb8-9068-d722dbcb2c32\t./202006292034 Phototransduction.md\n",
      "90049920-d171-3c27-a58f-20c26b5120c9\t./202006291939 Vision system overview.md\n",
      "c2f32a90-a55f-385b-a74d-c6bbb66b48b9\t./202006241629 Nonsynaptic plasticity.md\n",
      "99f3e715-9742-30e4-b174-ff9f2c67626d\t./202006241253 Spike timing–dependent plasticity.md\n",
      "e71682e1-1705-3942-942b-4ac2bedbcb4c\t./202006241159 LTD in depth.md\n",
      "066d6986-a9a1-38ec-b1ec-2bf548a77d6e\t./202006241050 LTP in depth.md\n",
      "48609257-0837-32ea-ae5f-a022f3e53b48\t./202006231752 Hebb's rule.md\n",
      "0cc1cad7-e54e-3a7f-b171-7f7fa78b5bf6\t./202006231645 Synaptic plasticity.md\n",
      "a8cb2cf1-533f-3c02-a7d8-3e629ddb50e2\t./202006231340 Noradrenaline system.md\n",
      "4783d4ed-51b0-3269-9116-18077264b528\t./202006231319 Cholinergic system.md\n",
      "73086c7f-a58b-31f5-8256-aec207048adf\t./202006231229 Dopamine system.md\n",
      "3d236337-245f-3168-8911-db773bce25fb\t./202006202213 Neuropeptides.md\n",
      "d93e2928-5183-31f3-9f7f-8b2b75147848\t./202006202113 Serotonin system.md\n",
      "465ed777-1f94-38cd-90b0-58a0c4e70e31\t./202006181834 G protein–coupled receptors.md\n",
      "1f140c08-146e-31eb-a324-b3fcb71fc144\t./202006181748 Neuromodulation.md\n",
      "c9d91d77-98d5-3409-b5be-5840f2e60372\t./202006181310 Engram.md\n",
      "4226584b-eaa2-3a20-9b82-81b138559497\t./202006181236 Neuronal circuit motifs.md\n",
      "dbaebe6a-5b21-31bc-b30b-c7a26c3677ed\t./202006172011 Synaptic efficacy.md\n",
      "20817d67-b2ba-3be7-b497-3a2806e09669\t./202006171722 Allosteric modulator.md\n",
      "85b3b118-0bd8-3a06-aca2-565269c975cd\t./202006171641 IPSPs in depth.md\n",
      "49df2a98-dfc8-3c83-83f3-d7aa959147cf\t./202006171544 Glutamate receptors.md\n",
      "91e7370e-c742-3417-b082-50214b5e2397\t./202006171504 Nicotinic acethylcholine receptors.md\n",
      "98e45195-1932-3560-8bcd-924ee709e270\t./202006161957 Signaling of EPSPs and IPSPs.md\n",
      "aaee62cd-2591-39ce-a4dd-1509eaee448e\t./202006152124 Neurotransmitter fate after release.md\n",
      "5e15f7ae-7eca-36b9-92eb-c0d36e3b3874\t./202006152009 SNARE proteins of the presynaptic terminal.md\n",
      "cf5aa3ed-789f-363e-a581-3157e6848549\t./202006121745 Katz's quantal experiment.md\n",
      "110c39c9-9e6d-33b1-a032-29ef7a80c2d3\t./202006121647 Type of synapses.md\n",
      "a5a123e7-e541-3f36-a0e8-2adaedaae382\t./202006091140 Saltatory conduction.md\n",
      "a3cd2e17-d257-3863-8e8e-f69f93781950\t./202006091119 Effects of myelination.md\n",
      "a2d02337-0311-33cb-bb22-3d4d57a9560b\t./202006091054 Capacitance.md\n",
      "be0924a9-1b84-33da-ac46-76955c1a8788\t./202006071944 Modulation of voltage–gated ion channels response.md\n",
      "0cfdfdd3-ad24-32f6-95ca-0cbdd6387afd\t./202006062259 The action potential.md\n",
      "e19a9869-f7f2-3bb8-91f2-1158cecf1e1a\t./202006061955 Time constant equation.md\n",
      "da0f177b-d958-36bc-b225-846b8d0fb50b\t./202006061903 Length constant equation.md\n",
      "4ee8ddb8-2b39-31df-a767-f97b106645c2\t./202006061649 Ohm's law.md\n",
      "3990ccd6-fbb1-3c19-bfc8-b14d24b2d727\t./202006061138 Solvation shell.md\n",
      "2cbf5f4e-51c3-3887-876e-0af5a5158320\t./202006052003 Goldman–Hodgkin–Katz flux equation.md\n",
      "689a5560-0e20-3bfb-80ac-54d9f3b3b540\t./202006051914 Direction of ion flow.md\n",
      "06a9eec5-1d5f-3bab-a8f1-68143df60fce\t./202006042106 Cellular membrane driving force.md\n",
      "65024cb9-6979-3aca-8a71-b7978696027a\t./202006041931 Nernst equation.md\n",
      "13378f67-05b9-39c7-a89f-3f11aac3cb6b\t./202006041900 NODE » edX, Fundamentals of neuroscience (MCB80x).md\n"
     ]
    }
   ],
   "source": [
    "for i in mds: print(uuid.uuid3(uuid.NAMESPACE_DNS, i), i, sep='\\t')"
   ]
  },
  {
   "cell_type": "code",
   "execution_count": 39,
   "metadata": {},
   "outputs": [],
   "source": [
    "with open('blogList.json', 'w') as f:\n",
    "  json.dump(data, f)"
   ]
  },
  {
   "cell_type": "code",
   "execution_count": 8,
   "metadata": {},
   "outputs": [
    {
     "name": "stdout",
     "output_type": "stream",
     "text": [
      "[   {   'author': 'Ramón Opazo',\n",
      "        'date': '16/08/2020',\n",
      "        'description': 'Lorem ipsum dolor sit amet, consectetur adipiscing '\n",
      "                       'elit. Phasellus felis nisi, ultrices sed purus '\n",
      "                       'feugiat, placerat viverra ligula. Interdum et '\n",
      "                       'malesuada fames ac ante ipsum primis in faucibus. Nunc '\n",
      "                       'luctus dui nisi, eget vehicula erat consequat in. Nunc '\n",
      "                       'in eleifend diam. Aliquam lacus mi, vestibulum sit '\n",
      "                       'amet ultricies in, mollis vel urna. Vestibulum odio '\n",
      "                       'tellus, dapibus ut diam vel, imperdiet fermentum '\n",
      "                       'tellus. Nunc lacinia bibendum tellus, non hendrerit ex '\n",
      "                       'euismod eu. Sed mattis lacus a lorem sollicitudin '\n",
      "                       'ornare. Phasellus urna tellus, condimentum non magna '\n",
      "                       'sed, tincidunt luctus orci. Aliquam at egestas diam. '\n",
      "                       'Donec auctor ultrices dignissim.',\n",
      "        'tags': 'test, blog, formatting',\n",
      "        'title': 'Lorem ipsum dolor'},\n",
      "    {   'author': 'Ramón Opazo',\n",
      "        'date': '22/07/2020',\n",
      "        'description': 'The hipothalamus is found in all vertebrates brains, '\n",
      "                       'sitting below the thalamus and above the brainstem. '\n",
      "                       'The main function of the hipothalamus is to maintain '\n",
      "                       'homeostasis of the body. It achieves this goal by '\n",
      "                       'regulating different autonomous and behavioral '\n",
      "                       'systems.',\n",
      "        'tags': 'MCB80_3x, neuroanatomy, model, subcorticalAreas',\n",
      "        'title': 'Hipothalamus'},\n",
      "    {   'author': 'Ramón Opazo',\n",
      "        'date': '21/07/2020',\n",
      "        'description': 'There are two types of long term memories. Declarative '\n",
      "                       'memory, also named explicit memory, is the memory of '\n",
      "                       'knowing what, that is, facts and events, consciously '\n",
      "                       'recalled (or declared). It is explicitly stored and '\n",
      "                       'retrieved.',\n",
      "        'tags': 'MCB80_3x, model, subcorticalAreas',\n",
      "        'title': 'Hippocampus'}]\n"
     ]
    }
   ],
   "source": [
    "pp = pprint.PrettyPrinter(indent=4)\n",
    "pp.pprint(data)"
   ]
  },
  {
   "cell_type": "code",
   "execution_count": null,
   "metadata": {},
   "outputs": [],
   "source": []
  }
 ],
 "metadata": {
  "kernelspec": {
   "display_name": "Python 3",
   "language": "python",
   "name": "python3"
  },
  "language_info": {
   "codemirror_mode": {
    "name": "ipython",
    "version": 3
   },
   "file_extension": ".py",
   "mimetype": "text/x-python",
   "name": "python",
   "nbconvert_exporter": "python",
   "pygments_lexer": "ipython3",
   "version": "3.7.6"
  }
 },
 "nbformat": 4,
 "nbformat_minor": 4
}
